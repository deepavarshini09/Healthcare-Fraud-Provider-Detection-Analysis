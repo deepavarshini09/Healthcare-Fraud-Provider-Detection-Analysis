{
  "cells": [
    {
      "cell_type": "markdown",
      "metadata": {
        "id": "view-in-github",
        "colab_type": "text"
      },
      "source": [
        "<a href=\"https://colab.research.google.com/github/shivi13102/Healthcare-Fraud-Provider-Detection-Analysis/blob/main/dataClean.ipynb\" target=\"_parent\"><img src=\"https://colab.research.google.com/assets/colab-badge.svg\" alt=\"Open In Colab\"/></a>"
      ]
    },
    {
      "cell_type": "code",
      "execution_count": null,
      "metadata": {
        "id": "pdtd5lMr3pmm",
        "colab": {
          "base_uri": "https://localhost:8080/"
        },
        "outputId": "ca0896f2-424b-4631-cb4f-0c970891ddbc"
      },
      "outputs": [
        {
          "output_type": "stream",
          "name": "stdout",
          "text": [
            "Mounted at /content/drive\n"
          ]
        }
      ],
      "source": [
        "from google.colab import drive\n",
        "drive.mount('/content/drive')"
      ]
    },
    {
      "cell_type": "code",
      "execution_count": null,
      "metadata": {
        "id": "NAiGT8FbnTnO"
      },
      "outputs": [],
      "source": [
        "import pandas as pd\n",
        "import numpy as np\n",
        "import matplotlib.pyplot as plt\n",
        "import seaborn as sns\n",
        "from scipy.stats import norm"
      ]
    },
    {
      "cell_type": "code",
      "execution_count": null,
      "metadata": {
        "id": "uWfWiFdIgvyO"
      },
      "outputs": [],
      "source": [
        "# Load Beneficiary Data\n",
        "train_beneficiary = pd.read_excel('/content/drive/My Drive/FDS PROJECT/Train_Beneficiarydata-1542865627584.xlsx')"
      ]
    },
    {
      "cell_type": "code",
      "execution_count": null,
      "metadata": {
        "id": "HjNTsLL3nuFK"
      },
      "outputs": [],
      "source": [
        "display(train_beneficiary)"
      ]
    },
    {
      "cell_type": "code",
      "source": [
        "#Check the first few rows\n",
        "print(\"The first 5 rows: \")\n",
        "display(train_beneficiary.head())\n"
      ],
      "metadata": {
        "id": "UCaeN5OvzhMX"
      },
      "execution_count": null,
      "outputs": []
    },
    {
      "cell_type": "code",
      "source": [
        "#get the summary of the data\n",
        "print(\"The Summary of the data:\")\n",
        "display(train_beneficiary.info())"
      ],
      "metadata": {
        "id": "x3LSiwFN2CCL"
      },
      "execution_count": null,
      "outputs": []
    },
    {
      "cell_type": "code",
      "source": [
        "#Describe the numerical columns\n",
        "print(\"The numerical data: \")\n",
        "display(train_beneficiary.describe())"
      ],
      "metadata": {
        "id": "TB6j79B-2QRQ"
      },
      "execution_count": null,
      "outputs": []
    },
    {
      "cell_type": "code",
      "source": [
        "print(\"Shape of Train beneficiary data: \")\n",
        "train_beneficiary.shape"
      ],
      "metadata": {
        "id": "fk20iumYdZmU"
      },
      "execution_count": null,
      "outputs": []
    },
    {
      "cell_type": "markdown",
      "source": [
        "#Data cleaning process for beneficiary data\n"
      ],
      "metadata": {
        "id": "o6i-QwBjdzJL"
      }
    },
    {
      "cell_type": "code",
      "source": [
        "# Check for missing values\n",
        "missing_values = train_beneficiary.isnull().sum()\n",
        "print(missing_values)"
      ],
      "metadata": {
        "id": "gbcnEbn92kHM"
      },
      "execution_count": null,
      "outputs": []
    },
    {
      "cell_type": "code",
      "source": [
        "# Replace null values in the 'DOD' column with \"Alive\"\n",
        "train_beneficiary['DOD'].fillna(\"Alive\", inplace=True)\n",
        "\n",
        "# Display the updated DataFrame\n",
        "display(train_beneficiary)"
      ],
      "metadata": {
        "id": "ZzQVB67Y3itT"
      },
      "execution_count": null,
      "outputs": []
    },
    {
      "cell_type": "code",
      "source": [
        "# Display rows where 'DOD' does not contain \"Alive\"\n",
        "non_alive_rows = train_beneficiary[train_beneficiary['DOD'] != \"Alive\"]\n",
        "\n",
        "# Show the resulting DataFrame\n",
        "display(non_alive_rows)"
      ],
      "metadata": {
        "id": "88AORS7z32D2"
      },
      "execution_count": null,
      "outputs": []
    },
    {
      "cell_type": "code",
      "source": [
        "# Check for duplicates in the 'BeneID' column of the train_beneficiary dataset\n",
        "duplicates = train_beneficiary[train_beneficiary.duplicated(subset='BeneID')]\n",
        "\n",
        "# Print the result\n",
        "if not duplicates.empty:\n",
        "    print(f\"Found {len(duplicates)} duplicates in the 'BeneID' column of train_beneficiary.\")\n",
        "    print(duplicates)\n",
        "else:\n",
        "    print(\"No duplicates found in the 'BeneID' column of train_beneficiary.\")\n",
        "\n",
        "# Count the number of unique values in the 'BeneID' column of the train_beneficiary dataset\n",
        "unique_beneid_count = train_beneficiary['BeneID'].nunique()\n",
        "\n",
        "# Print the result\n",
        "print(f\"There are {unique_beneid_count} unique values in the 'BeneID' column of train_beneficiary.\")"
      ],
      "metadata": {
        "id": "OTcGfBlreXmB"
      },
      "execution_count": null,
      "outputs": []
    },
    {
      "cell_type": "code",
      "source": [
        "# Rename the 'county' column to 'country'\n",
        "train_beneficiary = train_beneficiary.rename(columns={'County': 'Country'})\n",
        "\n",
        "# Verify the change\n",
        "print(train_beneficiary.columns)"
      ],
      "metadata": {
        "id": "bcaj8FjdmM-v"
      },
      "execution_count": null,
      "outputs": []
    },
    {
      "cell_type": "code",
      "source": [
        "# List of columns that need to be converted\n",
        "chronic_conditions = [\n",
        "    'ChronicCond_Alzheimer', 'ChronicCond_Heartfailure',\n",
        "    'ChronicCond_KidneyDisease', 'ChronicCond_Cancer',\n",
        "    'ChronicCond_ObstrPulmonary', 'ChronicCond_Depression',\n",
        "    'ChronicCond_Diabetes', 'ChronicCond_IschemicHeart',\n",
        "    'ChronicCond_Osteoporasis', 'ChronicCond_rheumatoidarthritis',\n",
        "    'ChronicCond_stroke'\n",
        "]\n",
        "\n",
        "# Convert 2 to 0 and leave 1 as 1 for the specified columns\n",
        "train_beneficiary[chronic_conditions] = train_beneficiary[chronic_conditions].replace({2: 0})\n",
        "\n",
        "# Verify the changes\n",
        "display(train_beneficiary[chronic_conditions].head())"
      ],
      "metadata": {
        "id": "F4KLxmMyk226"
      },
      "execution_count": null,
      "outputs": []
    },
    {
      "cell_type": "code",
      "source": [
        "# Replace 0 with 'N' in the RenalDiseaseIndicator column\n",
        "train_beneficiary['RenalDiseaseIndicator'] = train_beneficiary['RenalDiseaseIndicator'].replace({0: 'N'})\n",
        "\n",
        "#Verify the changes\n",
        "print(train_beneficiary['RenalDiseaseIndicator'].value_counts())"
      ],
      "metadata": {
        "id": "3MH59ZwfXQOc"
      },
      "execution_count": null,
      "outputs": []
    },
    {
      "cell_type": "code",
      "source": [
        "# Replace 1 with 'M' and 2 with 'F' in the gender column for train_beneficiary\n",
        "train_beneficiary['Gender'] = train_beneficiary['Gender'].replace({1: 'M', 2: 'F'})\n",
        "\n",
        "# Verify the changes\n",
        "print(train_beneficiary['Gender'].value_counts())"
      ],
      "metadata": {
        "id": "DWilnz4-XQFi"
      },
      "execution_count": null,
      "outputs": []
    },
    {
      "cell_type": "code",
      "source": [
        "display(train_beneficiary)"
      ],
      "metadata": {
        "id": "3bPV22UmYwP5"
      },
      "execution_count": null,
      "outputs": []
    },
    {
      "cell_type": "code",
      "source": [
        "# Remove rows where \"Country\" or \"State\" is 0\n",
        "train_beneficiary = train_beneficiary[(train_beneficiary['Country'] != 0) & (train_beneficiary['State'] != 0)]"
      ],
      "metadata": {
        "id": "J1wbweKcB5yD"
      },
      "execution_count": null,
      "outputs": []
    },
    {
      "cell_type": "code",
      "source": [
        "display(train_beneficiary)"
      ],
      "metadata": {
        "id": "wyoOVqiDCDt-"
      },
      "execution_count": null,
      "outputs": []
    },
    {
      "cell_type": "code",
      "source": [
        "# List of country codes to keep (195 countries)\n",
        "country_codes_to_keep = [\n",
        "    93, 355, 213, 376, 244, 1, 268, 54, 374, 61, 43, 994, 1, 242, 973, 880, 1, 246, 375, 32, 501, 229, 975,\n",
        "    591, 387, 267, 55, 673, 359, 226, 257, 238, 855, 237, 236, 235, 56, 86, 57, 269, 242, 243, 506, 385, 53,\n",
        "    357, 420, 45, 253, 1, 767, 1, 809, 1, 829, 1, 849, 593, 20, 503, 240, 291, 372, 268, 251, 679, 358, 33,\n",
        "    241, 220, 995, 49, 233, 30, 1, 473, 502, 224, 245, 592, 509, 504, 36, 354, 91, 62, 98, 964, 353, 972, 39,\n",
        "    1, 876, 81, 962, 7, 254, 686, 850, 82, 965, 996, 856, 371, 961, 266, 231, 218, 423, 370, 352, 261, 265,\n",
        "    60, 960, 223, 356, 692, 222, 230, 52, 691, 373, 377, 976, 382, 212, 258, 95, 264, 674, 977, 31, 64, 505,\n",
        "    227, 234, 389, 47, 968, 92, 680, 507, 675, 595, 51, 63, 48, 351, 974, 40, 7, 250, 1, 869, 1, 758, 1, 784,\n",
        "    685, 378, 239, 966, 221, 381, 248, 232, 65, 421, 386, 677, 252, 27, 211, 34, 94, 249, 597, 46, 41, 963,\n",
        "    886, 992, 255, 66, 670, 228, 676, 1, 868, 216, 90, 993, 688, 256, 380, 971, 44, 1, 598, 998, 678, 379,\n",
        "    58, 84, 967, 260, 263\n",
        "]\n",
        "\n",
        "# Filter the DataFrame to keep only rows with specified country codes\n",
        "filtered_df = train_beneficiary[train_beneficiary['Country'].isin(country_codes_to_keep)]\n",
        "\n",
        "# Display the filtered DataFrame\n",
        "display(filtered_df)"
      ],
      "metadata": {
        "id": "-ea6brHzYbn1"
      },
      "execution_count": null,
      "outputs": []
    },
    {
      "cell_type": "code",
      "source": [
        "# Display column names as a list\n",
        "columns_list = df.train_beneficiary.tolist()\n",
        "print(columns_list)\n"
      ],
      "metadata": {
        "id": "8VJPX8jrILb5"
      },
      "execution_count": null,
      "outputs": []
    },
    {
      "cell_type": "code",
      "source": [
        "# Define path for storing cleaned data\n",
        "file_path = '/content/drive/My Drive/FDS PROJECT/Cleaned_Data/train_bene_cleaned_data.xlsx'\n",
        "\n",
        "# Save the DataFrame to the specified path\n",
        "filtered_df.to_excel(file_path, index=False)"
      ],
      "metadata": {
        "id": "-crGwV2q1Brx"
      },
      "execution_count": null,
      "outputs": []
    }
  ],
  "metadata": {
    "colab": {
      "provenance": [],
      "include_colab_link": true
    },
    "kernelspec": {
      "display_name": "Python 3",
      "name": "python3"
    },
    "language_info": {
      "name": "python"
    }
  },
  "nbformat": 4,
  "nbformat_minor": 0
}